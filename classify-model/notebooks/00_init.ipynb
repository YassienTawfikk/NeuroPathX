{
 "cells": [
  {
   "metadata": {},
   "cell_type": "markdown",
   "source": "# Initialization",
   "id": "e35aa9c4da97a1a1"
  },
  {
   "metadata": {},
   "cell_type": "markdown",
   "source": "## Create all Directories",
   "id": "d8223616b4853e70"
  },
  {
   "cell_type": "code",
   "id": "initial_id",
   "metadata": {
    "collapsed": true,
    "ExecuteTime": {
     "end_time": "2025-09-12T03:10:22.758598Z",
     "start_time": "2025-09-12T03:10:21.833903Z"
    }
   },
   "source": [
    "from src.__00__paths import data_dir_list, output_dir_list\n",
    "\n",
    "for path in data_dir_list + output_dir_list:\n",
    "    path.mkdir(parents=True, exist_ok=True)\n",
    "    print(f'✔️ Created Directory: {'/'.join(path.parts[-2:])}')"
   ],
   "outputs": [
    {
     "name": "stdout",
     "output_type": "stream",
     "text": [
      "✔️ Created Directory: data/raw\n",
      "✔️ Created Directory: data/processed\n",
      "✔️ Created Directory: data/curated\n",
      "✔️ Created Directory: outputs/models\n",
      "✔️ Created Directory: outputs/figures\n",
      "✔️ Created Directory: outputs/docs\n"
     ]
    }
   ],
   "execution_count": 1
  }
 ],
 "metadata": {
  "kernelspec": {
   "display_name": "Python 3",
   "language": "python",
   "name": "python3"
  },
  "language_info": {
   "codemirror_mode": {
    "name": "ipython",
    "version": 2
   },
   "file_extension": ".py",
   "mimetype": "text/x-python",
   "name": "python",
   "nbconvert_exporter": "python",
   "pygments_lexer": "ipython2",
   "version": "2.7.6"
  }
 },
 "nbformat": 4,
 "nbformat_minor": 5
}

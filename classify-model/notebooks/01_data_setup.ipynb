{
 "cells": [
  {
   "metadata": {},
   "cell_type": "markdown",
   "source": "# Data Setup & Exploration",
   "id": "fd6679f562e29343"
  },
  {
   "metadata": {},
   "cell_type": "markdown",
   "source": "## Imports",
   "id": "3664bf11f91db940"
  },
  {
   "metadata": {
    "ExecuteTime": {
     "end_time": "2025-09-12T04:08:43.777872Z",
     "start_time": "2025-09-12T04:08:42.606581Z"
    }
   },
   "cell_type": "code",
   "source": [
    "import kagglehub\n",
    "import numpy as np\n",
    "import pandas as pd\n",
    "\n",
    "from sklearn.model_selection import train_test_split\n",
    "from sklearn.preprocessing import StandardScaler\n",
    "\n",
    "from src.__00__paths import raw_data_dir, processed_data_dir\n",
    "from pathlib import Path\n",
    "import shutil"
   ],
   "id": "85ca7cbc6a5474b5",
   "outputs": [
    {
     "name": "stdout",
     "output_type": "stream",
     "text": [
      "✔️ Created Directory: data/raw\n",
      "✔️ Created Directory: data/processed\n",
      "✔️ Created Directory: outputs/models\n"
     ]
    }
   ],
   "execution_count": 2
  },
  {
   "cell_type": "code",
   "id": "initial_id",
   "metadata": {
    "collapsed": true,
    "ExecuteTime": {
     "end_time": "2025-09-12T04:08:44.140851Z",
     "start_time": "2025-09-12T04:08:44.135437Z"
    }
   },
   "source": [
    "splits = [\"Testing\", \"Training\"]\n",
    "classes = [\"glioma\", \"meningioma\", \"notumor\", \"pituitary\"]\n",
    "\n",
    "# Construct a list of all expected directory paths.\n",
    "raw_dataset = [raw_data_dir / split / cls for split in splits for cls in classes]\n",
    "\n",
    "# Check if the dataset is already downloaded and organized.\n",
    "if all(path.exists() for path in raw_dataset):\n",
    "    print(\"✔️ Dataset is already downloaded and ready.\")\n",
    "else:\n",
    "    print(\"Downloading Datasets...\")\n",
    "\n",
    "    dataset_path = Path(kagglehub.dataset_download(\"masoudnickparvar/brain-tumor-mri-dataset\"))\n",
    "    if not dataset_path.exists():\n",
    "        raise FileNotFoundError(\"❌ Dataset not found after download.\")\n",
    "\n",
    "    # Account for a potential \"Data\" wrapper directory in the downloaded archive.\n",
    "    data_root = dataset_path / \"Data\" if (dataset_path / \"Data\").exists() else dataset_path\n",
    "\n",
    "    raw_data_dir.mkdir(parents=True, exist_ok=True)\n",
    "\n",
    "    # Copy data into the target directory, overwriting old files to ensure a clean state.\n",
    "    for split in splits:\n",
    "        src_split = data_root / split\n",
    "        dst_split = raw_data_dir / split\n",
    "        if src_split.exists():\n",
    "            if dst_split.exists():\n",
    "                shutil.rmtree(dst_split)\n",
    "            shutil.copytree(src_split, dst_split)\n",
    "\n",
    "    print(\"✔️ Dataset successfully downloaded and placed in:\", raw_data_dir)"
   ],
   "outputs": [
    {
     "name": "stdout",
     "output_type": "stream",
     "text": [
      "✔️ Dataset is already downloaded and ready.\n"
     ]
    }
   ],
   "execution_count": 3
  },
  {
   "metadata": {},
   "cell_type": "code",
   "outputs": [],
   "execution_count": null,
   "source": "",
   "id": "5df105184e147098"
  }
 ],
 "metadata": {
  "kernelspec": {
   "display_name": "Python 3",
   "language": "python",
   "name": "python3"
  },
  "language_info": {
   "codemirror_mode": {
    "name": "ipython",
    "version": 2
   },
   "file_extension": ".py",
   "mimetype": "text/x-python",
   "name": "python",
   "nbconvert_exporter": "python",
   "pygments_lexer": "ipython2",
   "version": "2.7.6"
  }
 },
 "nbformat": 4,
 "nbformat_minor": 5
}
